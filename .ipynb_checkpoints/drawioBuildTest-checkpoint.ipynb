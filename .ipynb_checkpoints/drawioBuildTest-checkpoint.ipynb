{
 "cells": [
  {
   "cell_type": "code",
   "execution_count": 105,
   "id": "ecc5e079",
   "metadata": {},
   "outputs": [],
   "source": [
    "import xml.etree.ElementTree as ET\n",
    "import sys\n",
    "import random \n",
    "import string\n",
    "import pandas as pd\n",
    "import math "
   ]
  },
  {
   "cell_type": "code",
   "execution_count": 2,
   "id": "91bffe37",
   "metadata": {},
   "outputs": [],
   "source": [
    "tree = ET.parse('yardiMapping.drawio')"
   ]
  },
  {
   "cell_type": "code",
   "execution_count": 7,
   "id": "b7a96f17",
   "metadata": {},
   "outputs": [],
   "source": [
    "root = tree.getroot()"
   ]
  },
  {
   "cell_type": "code",
   "execution_count": 9,
   "id": "73e52a55",
   "metadata": {},
   "outputs": [
    {
     "name": "stdout",
     "output_type": "stream",
     "text": [
      "mxCell {'id': '0'}\n",
      "mxCell {'id': '1', 'parent': '0'}\n",
      "mxCell {'id': 'ap4IU0njt1SVOoDzZfBS-1', 'value': 'Table', 'style': 'shape=table;startSize=30;container=1;collapsible=1;childLayout=tableLayout;fixedRows=1;rowLines=0;fontStyle=1;align=center;resizeLast=1;html=1;', 'vertex': '1', 'parent': '1'}\n",
      "mxCell {'id': 'ap4IU0njt1SVOoDzZfBS-2', 'value': '', 'style': 'shape=tableRow;horizontal=0;startSize=0;swimlaneHead=0;swimlaneBody=0;fillColor=none;collapsible=0;dropTarget=0;points=[[0,0.5],[1,0.5]];portConstraint=eastwest;top=0;left=0;right=0;bottom=1;', 'vertex': '1', 'parent': 'ap4IU0njt1SVOoDzZfBS-1'}\n",
      "mxCell {'id': 'ap4IU0njt1SVOoDzZfBS-3', 'value': 'PK', 'style': 'shape=partialRectangle;connectable=0;fillColor=none;top=0;left=0;bottom=0;right=0;fontStyle=1;overflow=hidden;whiteSpace=wrap;html=1;', 'vertex': '1', 'parent': 'ap4IU0njt1SVOoDzZfBS-2'}\n",
      "mxCell {'id': 'ap4IU0njt1SVOoDzZfBS-4', 'value': 'UniqueID', 'style': 'shape=partialRectangle;connectable=0;fillColor=none;top=0;left=0;bottom=0;right=0;align=left;spacingLeft=6;fontStyle=5;overflow=hidden;whiteSpace=wrap;html=1;', 'vertex': '1', 'parent': 'ap4IU0njt1SVOoDzZfBS-2'}\n",
      "mxCell {'id': 'ap4IU0njt1SVOoDzZfBS-5', 'value': '', 'style': 'shape=tableRow;horizontal=0;startSize=0;swimlaneHead=0;swimlaneBody=0;fillColor=none;collapsible=0;dropTarget=0;points=[[0,0.5],[1,0.5]];portConstraint=eastwest;top=0;left=0;right=0;bottom=0;', 'vertex': '1', 'parent': 'ap4IU0njt1SVOoDzZfBS-1'}\n",
      "mxCell {'id': 'ap4IU0njt1SVOoDzZfBS-6', 'value': '', 'style': 'shape=partialRectangle;connectable=0;fillColor=none;top=0;left=0;bottom=0;right=0;editable=1;overflow=hidden;whiteSpace=wrap;html=1;', 'vertex': '1', 'parent': 'ap4IU0njt1SVOoDzZfBS-5'}\n",
      "mxCell {'id': 'ap4IU0njt1SVOoDzZfBS-7', 'value': 'Row 1', 'style': 'shape=partialRectangle;connectable=0;fillColor=none;top=0;left=0;bottom=0;right=0;align=left;spacingLeft=6;overflow=hidden;whiteSpace=wrap;html=1;', 'vertex': '1', 'parent': 'ap4IU0njt1SVOoDzZfBS-5'}\n"
     ]
    }
   ],
   "source": [
    "for child in root[0][0][0]:\n",
    "    print(child.tag, child.attrib)"
   ]
  },
  {
   "cell_type": "code",
   "execution_count": null,
   "id": "e11d3d63",
   "metadata": {},
   "outputs": [],
   "source": [
    "a = ET.Element('a')\n",
    "b = ET.SubElement(a, 'b')\n",
    "c = ET.SubElement(a, 'c')\n",
    "d = ET.SubElement(c, 'd')\n",
    "\n",
    "with open('tst.xml','w') as f:\n",
    "    sys.stdout = f\n",
    "    ET.dump(a)\n",
    "    \n",
    "sys.stdout = sys.__stdout__"
   ]
  },
  {
   "cell_type": "code",
   "execution_count": 17,
   "id": "50cf94e5",
   "metadata": {},
   "outputs": [],
   "source": [
    "def get_random_string(length):\n",
    "    # choose from all lowercase letter\n",
    "    letters = string.ascii_lowercase\n",
    "    result_str = ''.join(random.choice(letters) for i in range(length))\n",
    "    \n",
    "    return result_str"
   ]
  },
  {
   "cell_type": "code",
   "execution_count": 20,
   "id": "fd1d1bf9",
   "metadata": {},
   "outputs": [],
   "source": [
    "def build_template():\n",
    "    file = ET.Element('mxfile')\n",
    "    \n",
    "    for k,v in [\n",
    "    (\"host\", \"app.diagrams.net\"),\n",
    "    (\"modified\", \"2023-09-05T07:54:04.190Z\"),\n",
    "    (\"agent\", \"Mozilla/5.0 (Windows NT 10.0; Win64; x64) AppleWebKit/537.36 (KHTML, like Gecko) Chrome/116.0.0.0 Safari/537.36\"),\n",
    "    (\"etag\", \"HjWIrW4peENMXwZ8oBNh\"),\n",
    "    (\"version\", \"21.7.2\"),\n",
    "    (\"type\", \"device\")]:\n",
    "        file.set(k,v)\n",
    "        \n",
    "    d1 = ET.SubElement(file,'diagram')\n",
    "    \n",
    "    for k,v in [\n",
    "    (\"id\", \"R2lEEEUBdFMjLlhIrx01\"),\n",
    "    (\"name\", \"Page-1\")\n",
    "    ]:\n",
    "        d1.set(k,v)\n",
    "    \n",
    "    graph = ET.SubElement(d1,\"mxGraphModel\")\n",
    "    \n",
    "    for k,v in [\n",
    "    (\"dx\", \"682\"),\n",
    "    (\"dy\", \"680\"),\n",
    "    (\"grid\", \"1\"),\n",
    "    (\"gridSize\", \"10\"),\n",
    "    (\"guides\", \"1\"),\n",
    "    (\"tooltips\", \"1\"),\n",
    "    (\"connect\", \"1\"),\n",
    "    (\"arrows\", \"1\"),\n",
    "    (\"fold\", \"1\"),\n",
    "    (\"page\", \"1\"),\n",
    "    (\"pageScale\", \"1\"),\n",
    "    (\"pageWidth\", \"4000\"),\n",
    "    (\"pageHeight\", \"4000\"),\n",
    "    (\"math\", \"0\"),\n",
    "    (\"shadow\", \"0\"),\n",
    "    (\"extFonts\", \"Permanent Marker^https://fonts.googleapis.com/css?family=Permanent+Marker\")\n",
    "    ]:\n",
    "        graph.set(k,v)\n",
    "        \n",
    "    root = ET.SubElement(graph,\"root\")\n",
    "    mxC1 = ET.SubElement(root,\"mxCell\")\n",
    "    mxC2 = ET.SubElement(root,\"mxCell\")\n",
    "    \n",
    "    mxC1.set(\"id\",\"0\")\n",
    "    mxC2.set(\"id\",\"1\")\n",
    "    mxC2.set(\"parent\",\"0\")\n",
    "    \n",
    "    ###\n",
    "    # Adding table\n",
    "    ###\n",
    "    \n",
    "    table = ET.SubElement(root,'mxCell')\n",
    "    \n",
    "    for k,v in [\n",
    "    (\"id\", get_random_string(8) + \"-1\"),\n",
    "    (\"value\", \"Table\"),\n",
    "    (\"style\", \"shape=table;startSize=30;container=1;collapsible=1;childLayout=tableLayout;fixedRows=1;rowLines=0;fontStyle=1;align=center;resizeLast=1;html=1;\"),\n",
    "    (\"parent\", \"1\"),\n",
    "    (\"vertex\", \"1\")]:\n",
    "        table.set(k,v)\n",
    "        \n",
    "    geo1 = ET.SubElement(table,'mxGeometry')\n",
    "    rec1 = ET.SubElement(geo1,'mxRectangle')\n",
    "    \n",
    "    for k,v in [\n",
    "    (\"x\", \"370\"),\n",
    "    (\"y\", \"90\"),\n",
    "    (\"width\", \"180\"),\n",
    "    (\"height\", \"90\"),\n",
    "    (\"as\", \"geometry\")\n",
    "    ]:\n",
    "        geo1.set(k,v)\n",
    "        \n",
    "    for k,v in [\n",
    "    (\"x\", \"370\"),\n",
    "    (\"y\", \"90\"),\n",
    "    (\"width\", \"180\"),\n",
    "    (\"height\", \"90\"),\n",
    "    (\"as\", \"geometry\"),\n",
    "    (\"width\", \"70\"),\n",
    "    (\"height\", \"30\"),\n",
    "    (\"as\", \"alternateBounds\")\n",
    "    ]:\n",
    "        rec1.set(k,v)\n",
    "        \n",
    "    return file"
   ]
  },
  {
   "cell_type": "code",
   "execution_count": 19,
   "id": "76eb2fae",
   "metadata": {},
   "outputs": [],
   "source": [
    "a = build_template()\n",
    "\n",
    "with open('tst.drawio','w') as f:\n",
    "    sys.stdout = f\n",
    "    ET.dump(a)\n",
    "    \n",
    "sys.stdout = sys.__stdout__"
   ]
  },
  {
   "cell_type": "code",
   "execution_count": null,
   "id": "51977c0f",
   "metadata": {},
   "outputs": [],
   "source": []
  },
  {
   "cell_type": "code",
   "execution_count": 221,
   "id": "0bc1213d",
   "metadata": {},
   "outputs": [],
   "source": [
    "df = pd.read_excel(\"dmAH.xlsx\",sheet_name='Transactions')"
   ]
  },
  {
   "cell_type": "code",
   "execution_count": 222,
   "id": "13ed4e7d",
   "metadata": {},
   "outputs": [],
   "source": [
    "# Set the column names to the values in the first row\n",
    "df.columns = df.iloc[0]\n",
    "\n",
    "# Drop the first row (old column names) from the DataFrame\n",
    "df = df.iloc[1:]\n",
    "\n",
    "# Reset the index if needed\n",
    "df.reset_index(drop=True, inplace=True)"
   ]
  },
  {
   "cell_type": "code",
   "execution_count": 223,
   "id": "b5a09ace",
   "metadata": {},
   "outputs": [],
   "source": [
    "condition = df[\"Grouping 1\"] == \"Static\""
   ]
  },
  {
   "cell_type": "code",
   "execution_count": 224,
   "id": "e418da4a",
   "metadata": {},
   "outputs": [],
   "source": [
    "static_df = df[condition]\n",
    "uVals = static_df['Object'].unique()"
   ]
  },
  {
   "cell_type": "code",
   "execution_count": 225,
   "id": "b4d88be6",
   "metadata": {},
   "outputs": [],
   "source": [
    "valAts = {}\n",
    "\n",
    "for v in uVals:\n",
    "    valAts[v] = []\n",
    "    tupes = list(zip(static_df[static_df['Object']==v]['Data Point'],static_df[static_df['Object']==v]['Dependency']))\n",
    "    valAts[v] = tupes"
   ]
  },
  {
   "cell_type": "code",
   "execution_count": 229,
   "id": "b2f3799b",
   "metadata": {},
   "outputs": [],
   "source": [
    "## Remove nan values and replace with empty string\n",
    "counter = 0\n",
    "for i,k in enumerate(valAts['Legal Entity']):\n",
    "    if type(k[0]) is float and math.isnan(k[0]):\n",
    "#         valAts['Legal Entity'].pop(i)\n",
    "        counter+=1"
   ]
  },
  {
   "cell_type": "code",
   "execution_count": 230,
   "id": "e1787184",
   "metadata": {},
   "outputs": [
    {
     "data": {
      "text/plain": [
       "21"
      ]
     },
     "execution_count": 230,
     "metadata": {},
     "output_type": "execute_result"
    }
   ],
   "source": [
    "counter"
   ]
  },
  {
   "cell_type": "code",
   "execution_count": 209,
   "id": "bcbd7e23",
   "metadata": {},
   "outputs": [
    {
     "data": {
      "text/plain": [
       "[('Country', 'FK'),\n",
       " ('Currency', 'FK'),\n",
       " ('Tax Authority', 'FK'),\n",
       " ('Legacy Code', nan),\n",
       " ('Legal Name 1', nan),\n",
       " ('Legal Name 2', nan),\n",
       " ('Address 1', nan),\n",
       " ('Address 2', nan),\n",
       " ('Address 3', nan),\n",
       " ('County', nan),\n",
       " ('City', nan),\n",
       " ('State', nan),\n",
       " ('Post Code', nan),\n",
       " ('Phone Number 1', nan),\n",
       " ('Phone Number 2', nan),\n",
       " ('Phone Number 3', nan),\n",
       " ('Phone Number 4', nan),\n",
       " ('Phone Number 5', nan),\n",
       " ('Phone Number 6', nan),\n",
       " ('Phone Number 7', nan),\n",
       " ('Phone Number 8', nan),\n",
       " ('Phone Number 9', nan),\n",
       " ('Phone Number 10', nan),\n",
       " ('E-mail', nan),\n",
       " (nan, nan),\n",
       " ('Tax Point', nan),\n",
       " ('Tax Registered', nan),\n",
       " ('Tax Registration Number', nan),\n",
       " ('Commercial Registration Number', nan),\n",
       " ('Foreign Registration Number', nan),\n",
       " (nan, nan),\n",
       " (nan, nan),\n",
       " (nan, nan),\n",
       " (nan, nan),\n",
       " (nan, nan),\n",
       " (nan, nan),\n",
       " (nan, nan),\n",
       " (nan, nan),\n",
       " (nan, nan),\n",
       " ('Share Capital Amount', nan),\n",
       " (nan, nan),\n",
       " (nan, nan),\n",
       " (nan, nan),\n",
       " (nan, nan),\n",
       " (nan, nan),\n",
       " (nan, nan),\n",
       " (nan, nan)]"
      ]
     },
     "execution_count": 209,
     "metadata": {},
     "output_type": "execute_result"
    }
   ],
   "source": [
    "valAts['Legal Entity']"
   ]
  },
  {
   "cell_type": "code",
   "execution_count": 154,
   "id": "f92b7ad3",
   "metadata": {},
   "outputs": [],
   "source": [
    "for a,b in valAts['Legal Entity']:\n",
    "    if pd.isna(a) and pd.isna(b) is None:\n",
    "        print('FOund')"
   ]
  },
  {
   "cell_type": "code",
   "execution_count": 158,
   "id": "521a73ba",
   "metadata": {},
   "outputs": [
    {
     "data": {
      "text/plain": [
       "[('Country', 'FK'),\n",
       " ('Tax Authority', 'FK'),\n",
       " ('Legacy Code', nan),\n",
       " ('Legal Name 2', nan),\n",
       " ('Address 2', nan),\n",
       " ('County', nan),\n",
       " ('State', nan),\n",
       " ('Phone Number 1', nan),\n",
       " ('Phone Number 3', nan),\n",
       " ('Phone Number 5', nan),\n",
       " ('Phone Number 7', nan),\n",
       " ('Phone Number 9', nan),\n",
       " (nan, nan),\n",
       " (nan, nan),\n",
       " ('Tax Point', nan),\n",
       " ('Tax Registration Number', nan),\n",
       " ('Commercial Registration Number', nan),\n",
       " (nan, nan),\n",
       " (nan, nan),\n",
       " (nan, nan),\n",
       " (nan, nan),\n",
       " (nan, nan),\n",
       " (nan, nan),\n",
       " (nan, nan),\n",
       " (nan, nan),\n",
       " (nan, nan),\n",
       " ('Share Capital Amount', nan),\n",
       " (nan, nan),\n",
       " (nan, nan),\n",
       " (nan, nan),\n",
       " (nan, nan),\n",
       " (nan, nan),\n",
       " (nan, nan),\n",
       " (nan, nan)]"
      ]
     },
     "execution_count": 158,
     "metadata": {},
     "output_type": "execute_result"
    }
   ],
   "source": [
    "valAts['Legal Entity']"
   ]
  },
  {
   "cell_type": "code",
   "execution_count": 157,
   "id": "417b3ff6",
   "metadata": {},
   "outputs": [
    {
     "name": "stdout",
     "output_type": "stream",
     "text": [
      "(nan, nan)\n",
      "(nan, nan)\n",
      "(nan, nan)\n",
      "(nan, nan)\n",
      "(nan, nan)\n",
      "(nan, nan)\n",
      "(nan, nan)\n",
      "(nan, nan)\n",
      "(nan, nan)\n",
      "(nan, nan)\n",
      "(nan, nan)\n",
      "(nan, nan)\n",
      "(nan, nan)\n",
      "(nan, nan)\n",
      "(nan, nan)\n",
      "(nan, nan)\n",
      "(nan, nan)\n",
      "(nan, nan)\n"
     ]
    }
   ],
   "source": [
    "for x in valAts['Legal Entity']:\n",
    "    if type(x[0]) ==float and math.isnan(x[0]):\n",
    "        print(x)"
   ]
  },
  {
   "cell_type": "code",
   "execution_count": null,
   "id": "97aeb5e1",
   "metadata": {},
   "outputs": [],
   "source": []
  }
 ],
 "metadata": {
  "kernelspec": {
   "display_name": "Python 3 (ipykernel)",
   "language": "python",
   "name": "python3"
  },
  "language_info": {
   "codemirror_mode": {
    "name": "ipython",
    "version": 3
   },
   "file_extension": ".py",
   "mimetype": "text/x-python",
   "name": "python",
   "nbconvert_exporter": "python",
   "pygments_lexer": "ipython3",
   "version": "3.11.4"
  }
 },
 "nbformat": 4,
 "nbformat_minor": 5
}
