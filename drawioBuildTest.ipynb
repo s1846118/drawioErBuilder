{
 "cells": [
  {
   "cell_type": "code",
   "execution_count": 105,
   "id": "ecc5e079",
   "metadata": {},
   "outputs": [],
   "source": [
    "import xml.etree.ElementTree as ET\n",
    "import sys\n",
    "import random \n",
    "import string\n",
    "import pandas as pd\n",
    "import math "
   ]
  },
  {
   "cell_type": "code",
   "execution_count": 2,
   "id": "91bffe37",
   "metadata": {},
   "outputs": [],
   "source": [
    "tree = ET.parse('yardiMapping.drawio')"
   ]
  },
  {
   "cell_type": "code",
   "execution_count": 7,
   "id": "b7a96f17",
   "metadata": {},
   "outputs": [],
   "source": [
    "root = tree.getroot()"
   ]
  },
  {
   "cell_type": "code",
   "execution_count": 9,
   "id": "73e52a55",
   "metadata": {},
   "outputs": [
    {
     "name": "stdout",
     "output_type": "stream",
     "text": [
      "mxCell {'id': '0'}\n",
      "mxCell {'id': '1', 'parent': '0'}\n",
      "mxCell {'id': 'ap4IU0njt1SVOoDzZfBS-1', 'value': 'Table', 'style': 'shape=table;startSize=30;container=1;collapsible=1;childLayout=tableLayout;fixedRows=1;rowLines=0;fontStyle=1;align=center;resizeLast=1;html=1;', 'vertex': '1', 'parent': '1'}\n",
      "mxCell {'id': 'ap4IU0njt1SVOoDzZfBS-2', 'value': '', 'style': 'shape=tableRow;horizontal=0;startSize=0;swimlaneHead=0;swimlaneBody=0;fillColor=none;collapsible=0;dropTarget=0;points=[[0,0.5],[1,0.5]];portConstraint=eastwest;top=0;left=0;right=0;bottom=1;', 'vertex': '1', 'parent': 'ap4IU0njt1SVOoDzZfBS-1'}\n",
      "mxCell {'id': 'ap4IU0njt1SVOoDzZfBS-3', 'value': 'PK', 'style': 'shape=partialRectangle;connectable=0;fillColor=none;top=0;left=0;bottom=0;right=0;fontStyle=1;overflow=hidden;whiteSpace=wrap;html=1;', 'vertex': '1', 'parent': 'ap4IU0njt1SVOoDzZfBS-2'}\n",
      "mxCell {'id': 'ap4IU0njt1SVOoDzZfBS-4', 'value': 'UniqueID', 'style': 'shape=partialRectangle;connectable=0;fillColor=none;top=0;left=0;bottom=0;right=0;align=left;spacingLeft=6;fontStyle=5;overflow=hidden;whiteSpace=wrap;html=1;', 'vertex': '1', 'parent': 'ap4IU0njt1SVOoDzZfBS-2'}\n",
      "mxCell {'id': 'ap4IU0njt1SVOoDzZfBS-5', 'value': '', 'style': 'shape=tableRow;horizontal=0;startSize=0;swimlaneHead=0;swimlaneBody=0;fillColor=none;collapsible=0;dropTarget=0;points=[[0,0.5],[1,0.5]];portConstraint=eastwest;top=0;left=0;right=0;bottom=0;', 'vertex': '1', 'parent': 'ap4IU0njt1SVOoDzZfBS-1'}\n",
      "mxCell {'id': 'ap4IU0njt1SVOoDzZfBS-6', 'value': '', 'style': 'shape=partialRectangle;connectable=0;fillColor=none;top=0;left=0;bottom=0;right=0;editable=1;overflow=hidden;whiteSpace=wrap;html=1;', 'vertex': '1', 'parent': 'ap4IU0njt1SVOoDzZfBS-5'}\n",
      "mxCell {'id': 'ap4IU0njt1SVOoDzZfBS-7', 'value': 'Row 1', 'style': 'shape=partialRectangle;connectable=0;fillColor=none;top=0;left=0;bottom=0;right=0;align=left;spacingLeft=6;overflow=hidden;whiteSpace=wrap;html=1;', 'vertex': '1', 'parent': 'ap4IU0njt1SVOoDzZfBS-5'}\n"
     ]
    }
   ],
   "source": [
    "for child in root[0][0][0]:\n",
    "    print(child.tag, child.attrib)"
   ]
  },
  {
   "cell_type": "code",
   "execution_count": null,
   "id": "e11d3d63",
   "metadata": {},
   "outputs": [],
   "source": [
    "a = ET.Element('a')\n",
    "b = ET.SubElement(a, 'b')\n",
    "c = ET.SubElement(a, 'c')\n",
    "d = ET.SubElement(c, 'd')\n",
    "\n",
    "with open('tst.xml','w') as f:\n",
    "    sys.stdout = f\n",
    "    ET.dump(a)\n",
    "    \n",
    "sys.stdout = sys.__stdout__"
   ]
  },
  {
   "cell_type": "code",
   "execution_count": 17,
   "id": "50cf94e5",
   "metadata": {},
   "outputs": [],
   "source": [
    "def get_random_string(length):\n",
    "    # choose from all lowercase letter\n",
    "    letters = string.ascii_lowercase\n",
    "    result_str = ''.join(random.choice(letters) for i in range(length))\n",
    "    \n",
    "    return result_str"
   ]
  },
  {
   "cell_type": "code",
   "execution_count": 20,
   "id": "fd1d1bf9",
   "metadata": {},
   "outputs": [],
   "source": [
    "def build_template():\n",
    "    file = ET.Element('mxfile')\n",
    "    \n",
    "    for k,v in [\n",
    "    (\"host\", \"app.diagrams.net\"),\n",
    "    (\"modified\", \"2023-09-05T07:54:04.190Z\"),\n",
    "    (\"agent\", \"Mozilla/5.0 (Windows NT 10.0; Win64; x64) AppleWebKit/537.36 (KHTML, like Gecko) Chrome/116.0.0.0 Safari/537.36\"),\n",
    "    (\"etag\", \"HjWIrW4peENMXwZ8oBNh\"),\n",
    "    (\"version\", \"21.7.2\"),\n",
    "    (\"type\", \"device\")]:\n",
    "        file.set(k,v)\n",
    "        \n",
    "    d1 = ET.SubElement(file,'diagram')\n",
    "    \n",
    "    for k,v in [\n",
    "    (\"id\", \"R2lEEEUBdFMjLlhIrx01\"),\n",
    "    (\"name\", \"Page-1\")\n",
    "    ]:\n",
    "        d1.set(k,v)\n",
    "    \n",
    "    graph = ET.SubElement(d1,\"mxGraphModel\")\n",
    "    \n",
    "    for k,v in [\n",
    "    (\"dx\", \"682\"),\n",
    "    (\"dy\", \"680\"),\n",
    "    (\"grid\", \"1\"),\n",
    "    (\"gridSize\", \"10\"),\n",
    "    (\"guides\", \"1\"),\n",
    "    (\"tooltips\", \"1\"),\n",
    "    (\"connect\", \"1\"),\n",
    "    (\"arrows\", \"1\"),\n",
    "    (\"fold\", \"1\"),\n",
    "    (\"page\", \"1\"),\n",
    "    (\"pageScale\", \"1\"),\n",
    "    (\"pageWidth\", \"4000\"),\n",
    "    (\"pageHeight\", \"4000\"),\n",
    "    (\"math\", \"0\"),\n",
    "    (\"shadow\", \"0\"),\n",
    "    (\"extFonts\", \"Permanent Marker^https://fonts.googleapis.com/css?family=Permanent+Marker\")\n",
    "    ]:\n",
    "        graph.set(k,v)\n",
    "        \n",
    "    root = ET.SubElement(graph,\"root\")\n",
    "    mxC1 = ET.SubElement(root,\"mxCell\")\n",
    "    mxC2 = ET.SubElement(root,\"mxCell\")\n",
    "    \n",
    "    mxC1.set(\"id\",\"0\")\n",
    "    mxC2.set(\"id\",\"1\")\n",
    "    mxC2.set(\"parent\",\"0\")\n",
    "    \n",
    "    ###\n",
    "    # Adding table\n",
    "    ###\n",
    "    \n",
    "    table = ET.SubElement(root,'mxCell')\n",
    "    \n",
    "    for k,v in [\n",
    "    (\"id\", get_random_string(8) + \"-1\"),\n",
    "    (\"value\", \"Table\"),\n",
    "    (\"style\", \"shape=table;startSize=30;container=1;collapsible=1;childLayout=tableLayout;fixedRows=1;rowLines=0;fontStyle=1;align=center;resizeLast=1;html=1;\"),\n",
    "    (\"parent\", \"1\"),\n",
    "    (\"vertex\", \"1\")]:\n",
    "        table.set(k,v)\n",
    "        \n",
    "    geo1 = ET.SubElement(table,'mxGeometry')\n",
    "    rec1 = ET.SubElement(geo1,'mxRectangle')\n",
    "    \n",
    "    for k,v in [\n",
    "    (\"x\", \"370\"),\n",
    "    (\"y\", \"90\"),\n",
    "    (\"width\", \"180\"),\n",
    "    (\"height\", \"90\"),\n",
    "    (\"as\", \"geometry\")\n",
    "    ]:\n",
    "        geo1.set(k,v)\n",
    "        \n",
    "    for k,v in [\n",
    "    (\"x\", \"370\"),\n",
    "    (\"y\", \"90\"),\n",
    "    (\"width\", \"180\"),\n",
    "    (\"height\", \"90\"),\n",
    "    (\"as\", \"geometry\"),\n",
    "    (\"width\", \"70\"),\n",
    "    (\"height\", \"30\"),\n",
    "    (\"as\", \"alternateBounds\")\n",
    "    ]:\n",
    "        rec1.set(k,v)\n",
    "        \n",
    "    return file"
   ]
  },
  {
   "cell_type": "code",
   "execution_count": 19,
   "id": "76eb2fae",
   "metadata": {},
   "outputs": [],
   "source": [
    "a = build_template()\n",
    "\n",
    "with open('tst.drawio','w') as f:\n",
    "    sys.stdout = f\n",
    "    ET.dump(a)\n",
    "    \n",
    "sys.stdout = sys.__stdout__"
   ]
  },
  {
   "cell_type": "code",
   "execution_count": null,
   "id": "51977c0f",
   "metadata": {},
   "outputs": [],
   "source": []
  },
  {
   "cell_type": "code",
   "execution_count": 322,
   "id": "0bc1213d",
   "metadata": {},
   "outputs": [],
   "source": [
    "df = pd.read_excel(\"dmAH.xlsx\",sheet_name='Transactions')"
   ]
  },
  {
   "cell_type": "code",
   "execution_count": 323,
   "id": "13ed4e7d",
   "metadata": {},
   "outputs": [],
   "source": [
    "# Set the column names to the values in the first row\n",
    "df.columns = df.iloc[0]\n",
    "\n",
    "# Drop the first row (old column names) from the DataFrame\n",
    "df = df.iloc[1:]\n",
    "\n",
    "# Reset the index if needed\n",
    "df.reset_index(drop=True, inplace=True)"
   ]
  },
  {
   "cell_type": "code",
   "execution_count": 324,
   "id": "2120e48d",
   "metadata": {},
   "outputs": [],
   "source": [
    "condition = df[\"Grouping 1\"] == \"Static\""
   ]
  },
  {
   "cell_type": "code",
   "execution_count": 325,
   "id": "b2803ec2",
   "metadata": {},
   "outputs": [],
   "source": [
    "static_df = df[condition]\n",
    "uVals = static_df['Object'].unique()"
   ]
  },
  {
   "cell_type": "code",
   "execution_count": 326,
   "id": "ca479de8",
   "metadata": {},
   "outputs": [],
   "source": [
    "valAts = {}\n",
    "\n",
    "for v in uVals:\n",
    "    valAts[v] = []\n",
    "    tupes = list(zip(static_df[static_df['Object']==v]['Data Point'],static_df[static_df['Object']==v]['Dependency']))\n",
    "    valAts[v] = tupes"
   ]
  },
  {
   "cell_type": "code",
   "execution_count": 320,
   "id": "ec8b5b4d",
   "metadata": {},
   "outputs": [],
   "source": [
    "## Remove nan values and replace with empty string\n",
    "for val,k in valAts.items():\n",
    "    to_remove = []\n",
    "    for i,k in enumerate(valAts[val]):\n",
    "        if type(k[0]) is float and math.isnan(k[0]):\n",
    "            to_remove.append(valAts[val][i])\n",
    "\n",
    "    valAts[val] = [item for item in valAts[val] if item not in to_remove]\n",
    "\n",
    "    ## Remove nan values and replace with empty string\n",
    "    for i,k in enumerate(valAts[val]):\n",
    "        if pd.isna(k[1]):\n",
    "            valAts[val][i] = (k[0],\"\")"
   ]
  },
  {
   "cell_type": "code",
   "execution_count": 321,
   "id": "d3d096ac",
   "metadata": {},
   "outputs": [
    {
     "data": {
      "text/plain": [
       "{'Legal Entity': [('Code', ''),\n",
       "  ('Country', 'FK'),\n",
       "  ('Currency', 'FK'),\n",
       "  ('Tax Authority', 'FK'),\n",
       "  ('Legacy Code', ''),\n",
       "  ('Legal Name 1', ''),\n",
       "  ('Legal Name 2', ''),\n",
       "  ('Address 1', ''),\n",
       "  ('Address 2', ''),\n",
       "  ('Address 3', ''),\n",
       "  ('County', ''),\n",
       "  ('City', ''),\n",
       "  ('State', ''),\n",
       "  ('Post Code', ''),\n",
       "  ('Phone Number 1', ''),\n",
       "  ('Phone Number 2', ''),\n",
       "  ('Phone Number 3', ''),\n",
       "  ('Phone Number 4', ''),\n",
       "  ('Phone Number 5', ''),\n",
       "  ('Phone Number 6', ''),\n",
       "  ('Phone Number 7', ''),\n",
       "  ('Phone Number 8', ''),\n",
       "  ('Phone Number 9', ''),\n",
       "  ('Phone Number 10', ''),\n",
       "  ('E-mail', ''),\n",
       "  ('Tax Point', ''),\n",
       "  ('Tax Registered', ''),\n",
       "  ('Tax Registration Number', ''),\n",
       "  ('Commercial Registration Number', ''),\n",
       "  ('Foreign Registration Number', ''),\n",
       "  ('Share Capital Amount', '')],\n",
       " 'Property': [('Code', ''),\n",
       "  ('Country', 'FK'),\n",
       "  ('Legacy Code', ''),\n",
       "  ('Owner', 'FK'),\n",
       "  ('Address 1', ''),\n",
       "  ('Address 2', ''),\n",
       "  ('Address 3', ''),\n",
       "  ('County', ''),\n",
       "  ('City', ''),\n",
       "  ('State', ''),\n",
       "  ('Post Code', ''),\n",
       "  ('Acquisition Date', ''),\n",
       "  ('Sale Date', ''),\n",
       "  ('Acquisition Price', ''),\n",
       "  ('Sale Price', '')],\n",
       " 'Building': [('Code', ''),\n",
       "  ('Legacy Code', ''),\n",
       "  ('Country', 'FK'),\n",
       "  ('Name', ''),\n",
       "  ('Property Code', 'FK'),\n",
       "  ('Address 1', ''),\n",
       "  ('Address 2', ''),\n",
       "  ('Address 3', ''),\n",
       "  ('County', ''),\n",
       "  ('City', ''),\n",
       "  ('State', ''),\n",
       "  ('Post Code', ''),\n",
       "  ('Lot', '')],\n",
       " 'Floor': [('Building Code', 'FK'),\n",
       "  ('Legacy Code', ''),\n",
       "  ('Code', ''),\n",
       "  ('Level', ''),\n",
       "  ('Level Name', ''),\n",
       "  ('Property Code', 'FK')],\n",
       " 'Unit': [('Property Code', 'FK'),\n",
       "  ('Code', ''),\n",
       "  ('Country', 'FK'),\n",
       "  ('Building Code', 'FK'),\n",
       "  ('Floor Code', ''),\n",
       "  ('Address 1', ''),\n",
       "  ('Address 2', ''),\n",
       "  ('Address 3', ''),\n",
       "  ('County', ''),\n",
       "  ('City', ''),\n",
       "  ('State', ''),\n",
       "  ('Post Code', ''),\n",
       "  ('Type', '')],\n",
       " 'Area': [('Property Code', 'FK'),\n",
       "  ('Unit Code', 'FK'),\n",
       "  ('As of Date', ''),\n",
       "  ('Area Type', ''),\n",
       "  ('Area Value', '')],\n",
       " 'Country': [('Code', ''), ('Name', ''), ('Region', ''), ('Language', '')],\n",
       " 'Tax Authority': [('Code', ''),\n",
       "  ('Name', ''),\n",
       "  ('Address 1', ''),\n",
       "  ('Address 2', ''),\n",
       "  ('Address 3', ''),\n",
       "  ('County', ''),\n",
       "  ('City', ''),\n",
       "  ('State', ''),\n",
       "  ('Post Code', ''),\n",
       "  ('Phone Number', ''),\n",
       "  ('Fax Number', ''),\n",
       "  ('E-mail', ''),\n",
       "  ('Website', '')]}"
      ]
     },
     "execution_count": 321,
     "metadata": {},
     "output_type": "execute_result"
    }
   ],
   "source": [
    "valAts"
   ]
  },
  {
   "cell_type": "code",
   "execution_count": null,
   "id": "e8eef5ed",
   "metadata": {},
   "outputs": [],
   "source": []
  },
  {
   "cell_type": "code",
   "execution_count": null,
   "id": "c26e7c5d",
   "metadata": {},
   "outputs": [],
   "source": []
  }
 ],
 "metadata": {
  "kernelspec": {
   "display_name": "Python 3 (ipykernel)",
   "language": "python",
   "name": "python3"
  },
  "language_info": {
   "codemirror_mode": {
    "name": "ipython",
    "version": 3
   },
   "file_extension": ".py",
   "mimetype": "text/x-python",
   "name": "python",
   "nbconvert_exporter": "python",
   "pygments_lexer": "ipython3",
   "version": "3.11.4"
  }
 },
 "nbformat": 4,
 "nbformat_minor": 5
}
